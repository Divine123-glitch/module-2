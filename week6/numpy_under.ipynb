{
 "cells": [
  {
   "cell_type": "markdown",
   "id": "64c73c33",
   "metadata": {},
   "source": [
    "### **Understanding Numpy**"
   ]
  },
  {
   "cell_type": "markdown",
   "id": "396e898e",
   "metadata": {},
   "source": [
    "\n",
    "- NumPy (Numerical Python) is the foundation library for scientific computing in Python. It provides a powerful N-dimensional array object and tools for working with these arrays. \n",
    " - Think of NumPy as the engine that powers most data science libraries - pandas uses NumPy arrays internally, scikit-learn expects NumPy arrays for machine learning, and matplotlib uses NumPy for plotting.\n",
    "\n",
    "\n",
    "- NumPy operations are implemented in C, making them 10-100x faster than pure Python\n",
    "- NumPy arrays store data more compactly than Python lists\n",
    "- Vectorization: Perform operations on entire arrays without writing loops\n",
    "- Work with arrays of different shapes seamlessly\n",
    "- Foundation for pandas, scikit-learn, matplotlib, and more"
   ]
  },
  {
   "cell_type": "code",
   "execution_count": 1,
   "id": "51a68046",
   "metadata": {},
   "outputs": [
    {
     "name": "stdout",
     "output_type": "stream",
     "text": [
      "NumPy version: 2.3.2\n"
     ]
    }
   ],
   "source": [
    "# import all neccsarry libraries\n",
    "\n",
    "import numpy as np\n",
    "import matplotlib.pyplot as plt\n",
    "import time\n",
    "\n",
    "# Check NumPy version\n",
    "print(f\"NumPy version: {np.__version__}\")\n",
    "\n",
    "# Display settings for cleaner output\n",
    "np.set_printoptions(precision=3, suppress=True)"
   ]
  },
  {
   "cell_type": "markdown",
   "id": "baf3fbf8",
   "metadata": {},
   "source": [
    "We import NumPy with the standard alias `np`. The print options make arrays display more readably by limiting decimal places and avoiding scientific notation for numbers like 0.001."
   ]
  },
  {
   "cell_type": "markdown",
   "id": "529fdd49",
   "metadata": {},
   "source": [
    "**Numpy Data Structure**\n",
    "\n",
    "- NumPy arrays are fundamentally different from Python lists:\n",
    "\n",
    " - Homogeneous: All elements must be the same data type\n",
    " - Fixed size: Size is determined at creation (though you can create new arrays)\n",
    " - Memory efficient: Elements stored in contiguous memory blocks\n",
    " - Vectorized operations: Mathematical operations work on entire arrays"
   ]
  },
  {
   "cell_type": "markdown",
   "id": "aaac4821",
   "metadata": {},
   "source": [
    "**Creating Numpy Arrays**\n"
   ]
  },
  {
   "cell_type": "code",
   "execution_count": 2,
   "id": "a74eb56a",
   "metadata": {},
   "outputs": [
    {
     "name": "stdout",
     "output_type": "stream",
     "text": [
      "1D array: [1 2 3 4 5]\n",
      "2D array:\n",
      " [[1 2 3]\n",
      " [4 5 6]]\n",
      "3D array:\n",
      " [[[1 2]\n",
      "  [3 4]]\n",
      "\n",
      " [[5 6]\n",
      "  [7 8]]]\n"
     ]
    }
   ],
   "source": [
    "# Creating arrays from Python lists\n",
    "# 1D array: A simple sequence of numbers\n",
    "arr1d = np.array([1, 2, 3, 4, 5])\n",
    "\n",
    "# 2D array: Think of this as a matrix or table with rows and columns\n",
    "arr2d = np.array([[1, 2, 3], \n",
    "                  [4, 5, 6]])\n",
    "\n",
    "# 3D array: Like a stack of 2D arrays - useful for images, time series, etc.\n",
    "arr3d = np.array([[[1, 2], [3, 4]], \n",
    "                  [[5, 6], [7, 8]]])\n",
    "\n",
    "print(\"1D array:\", arr1d)\n",
    "print(\"2D array:\\n\", arr2d)\n",
    "print(\"3D array:\\n\", arr3d)"
   ]
  },
  {
   "cell_type": "markdown",
   "id": "c891e249",
   "metadata": {},
   "source": [
    "When you pass a nested list to `np.array()`, NumPy automatically determines the dimensions. The 1D array is like a single row, 2D is like a spreadsheet, and 3D is like multiple spreadsheets stacked together."
   ]
  },
  {
   "cell_type": "markdown",
   "id": "09a2b3fd",
   "metadata": {},
   "source": [
    "**Creating Special Arrays in Numpy**\n"
   ]
  },
  {
   "cell_type": "code",
   "execution_count": 3,
   "id": "7f6abd05",
   "metadata": {},
   "outputs": [
    {
     "name": "stdout",
     "output_type": "stream",
     "text": [
      "Zeros array (3x4):\n",
      " [[0. 0. 0. 0.]\n",
      " [0. 0. 0. 0.]\n",
      " [0. 0. 0. 0.]]\n",
      "Ones array shape: (2, 3, 4)\n",
      "Empty array (contains random values):\n",
      " [[4.944e-310 4.272e+096]\n",
      " [6.407e-145 7.408e+091]]\n"
     ]
    }
   ],
   "source": [
    "# Creating arrays filled with zeros - useful for initializing arrays\n",
    "# Shape (3, 4) means 3 rows and 4 columns\n",
    "zeros = np.zeros((3, 4))          \n",
    "\n",
    "# Creating arrays filled with ones - often used as starting points\n",
    "ones = np.ones((2, 3, 4))         # 3D array: 2 layers, 3 rows, 4 columns\n",
    "\n",
    "# Empty array - faster than zeros/ones but contains random values\n",
    "# Use when you'll immediately fill the array with real data\n",
    "empty = np.empty((2, 2))          \n",
    "\n",
    "print(\"Zeros array (3x4):\\n\", zeros)\n",
    "print(\"Ones array shape:\", ones.shape)\n",
    "print(\"Empty array (contains random values):\\n\", empty)"
   ]
  },
  {
   "cell_type": "markdown",
   "id": "3e972801",
   "metadata": {},
   "source": [
    "`zeros()` and `ones()` are memory-efficient ways to create arrays of specific sizes. `empty()` is fastest but contains garbage values, so only use it when you'll immediately overwrite the contents."
   ]
  },
  {
   "cell_type": "code",
   "execution_count": 4,
   "id": "3dda80ca",
   "metadata": {},
   "outputs": [
    {
     "name": "stdout",
     "output_type": "stream",
     "text": [
      "Range array: [0 2 4 6 8]\n",
      "Linspace array: [0.   0.25 0.5  0.75 1.  ]\n",
      "Logspace array: [  1.      3.162  10.     31.623 100.   ]\n"
     ]
    }
   ],
   "source": [
    "# Range arrays - like Python's range() but more powerful\n",
    "range_arr = np.arange(0, 10, 2)   # Start, stop, step: [0, 2, 4, 6, 8]\n",
    "print(\"Range array:\", range_arr)\n",
    "\n",
    "# Linearly spaced arrays - divide a range into equal parts\n",
    "# From 0 to 1 with exactly 5 points (including endpoints)\n",
    "linspace_arr = np.linspace(0, 1, 5)  \n",
    "print(\"Linspace array:\", linspace_arr)\n",
    "\n",
    "# Logarithmically spaced arrays - useful for scientific data\n",
    "# From 10^0 to 10^2 (1 to 100) with 5 points\n",
    "logspace_arr = np.logspace(0, 2, 5)  \n",
    "print(\"Logspace array:\", logspace_arr)"
   ]
  },
  {
   "cell_type": "code",
   "execution_count": null,
   "id": "a547a860",
   "metadata": {},
   "outputs": [],
   "source": [
    "# Identity matrix - diagonal of ones, zeros elsewhere\n",
    "# Essential for linear algebra operations\n",
    "identity = np.eye(4)              # 4x4 identity matrix\n",
    "\n",
    "# Diagonal matrix - put values on the diagonal\n",
    "diagonal = np.diag([1, 2, 3, 4])  \n",
    "\n",
    "# Array filled with a specific value\n",
    "full_arr = np.full((3, 3), 7)     # 3x3 array filled with 7\n",
    "\n",
    "print(\"Identity matrix:\\n\", identity)\n",
    "print(\"Diagonal matrix:\\n\", diagonal)\n",
    "print(\"Full array (filled with 7):\\n\", full_arr)"
   ]
  },
  {
   "cell_type": "markdown",
   "id": "86115eaa",
   "metadata": {},
   "source": [
    "Identity matrices are crucial in linear algebra - multiplying any matrix by an identity matrix returns the original matrix. Diagonal matrices are useful for scaling operations."
   ]
  },
  {
   "cell_type": "markdown",
   "id": "912b2c2d",
   "metadata": {},
   "source": [
    "**Numpy Data Types (dtypes)**\n",
    "- Understanding data types is crucial for memory efficiency and numerical precision."
   ]
  },
  {
   "cell_type": "code",
   "execution_count": null,
   "id": "058e86c2",
   "metadata": {},
   "outputs": [],
   "source": [
    "# Explicit data types - control memory usage and precision\n",
    "int_arr = np.array([1, 2, 3], dtype=np.int32)       # 32-bit integers\n",
    "float_arr = np.array([1, 2, 3], dtype=np.float64)   # 64-bit floats (double precision)\n",
    "bool_arr = np.array([True, False, True], dtype=np.bool_)  # Boolean values\n",
    "\n",
    "# Type conversion - change dtype of existing array\n",
    "converted = int_arr.astype(np.float32)  # Convert to 32-bit float\n",
    "\n",
    "print(\"Integer array dtype:\", int_arr.dtype)\n",
    "print(\"Float array dtype:\", float_arr.dtype)\n",
    "print(\"Boolean array dtype:\", bool_arr.dtype)\n",
    "print(\"Converted array dtype:\", converted.dtype)\n",
    "\n",
    "# Memory usage comparison\n",
    "print(f\"int32 uses {int_arr.itemsize} bytes per element\")\n",
    "print(f\"float64 uses {float_arr.itemsize} bytes per element\")"
   ]
  },
  {
   "cell_type": "markdown",
   "id": "8acd6499",
   "metadata": {},
   "source": [
    "- int8: 1 byte, range -128 to 127\n",
    "- int32: 4 bytes, range ±2 billion\n",
    "- float32: 4 bytes, ~7 decimal digits precision\n",
    "- float64: 8 bytes, ~15 decimal digits precision\n",
    "\n",
    "- Choose smaller types to save memory, larger types for precision"
   ]
  },
  {
   "cell_type": "markdown",
   "id": "7dbfe1ac",
   "metadata": {},
   "source": [
    "**Array Properties & Attributes**\n",
    "\n",
    "- Understanding array properties helps you work effectively with your data and debug issue"
   ]
  },
  {
   "cell_type": "code",
   "execution_count": 6,
   "id": "bf5dca37",
   "metadata": {},
   "outputs": [
    {
     "name": "stdout",
     "output_type": "stream",
     "text": [
      "Shape: (3, 4, 5)\n",
      "Size: 60\n",
      "Ndim: 3\n",
      "Dtype: float64\n",
      "Itemsize: 8\n",
      "Memory usage: 480 bytes\n",
      "Memory usage: 0.46875 KB\n"
     ]
    }
   ],
   "source": [
    "# Create a sample 3D array for demonstration\n",
    "# Think of this as 3 layers, each with 4 rows and 5 columns\n",
    "arr = np.random.randn(3, 4, 5)\n",
    "\n",
    "# Shape: The dimensions of the array (layers, rows, columns)\n",
    "print(\"Shape:\", arr.shape)           # Output: (3, 4, 5)\n",
    "\n",
    "# Size: Total number of elements (3 × 4 × 5 = 60)\n",
    "print(\"Size:\", arr.size)             \n",
    "\n",
    "# Ndim: Number of dimensions (3D in this case)\n",
    "print(\"Ndim:\", arr.ndim)             \n",
    "\n",
    "# Dtype: Data type of elements\n",
    "print(\"Dtype:\", arr.dtype)           # Usually float64 for random numbers\n",
    "\n",
    "# Itemsize: Memory size of each element in bytes\n",
    "print(\"Itemsize:\", arr.itemsize)     # 8 bytes for float64\n",
    "\n",
    "# Total memory usage in bytes\n",
    "print(\"Memory usage:\", arr.nbytes, \"bytes\")  # size × itemsize\n",
    "print(\"Memory usage:\", arr.nbytes / 1024, \"KB\")  # Convert to KB"
   ]
  },
  {
   "cell_type": "markdown",
   "id": "934a7544",
   "metadata": {},
   "source": [
    "These properties are essential for understanding your data's structure and memory requirements. Large datasets require careful attention to memory usage."
   ]
  },
  {
   "cell_type": "markdown",
   "id": "fa446672",
   "metadata": {},
   "source": [
    "**Array Indexing & Slicing**"
   ]
  },
  {
   "cell_type": "markdown",
   "id": "ac3f2f24",
   "metadata": {},
   "source": [
    " **Basic Indexing - Accessing Individual Elements**\n",
    "\n",
    "- NumPy indexing is similar to Python lists but more powerful for multi-dimensional arrays"
   ]
  },
  {
   "cell_type": "code",
   "execution_count": null,
   "id": "6b4695df",
   "metadata": {},
   "outputs": [],
   "source": [
    "# 1D array indexing - similar to Python lists\n",
    "arr1d = np.array([10, 20, 30, 40, 50])\n",
    "\n",
    "print(\"First element:\", arr1d[0])     # Index 0: 10\n",
    "print(\"Last element:\", arr1d[-1])     # Negative indexing: 50  \n",
    "print(\"Slice [1:4]:\", arr1d[1:4])     # Elements 1, 2, 3: [20, 30, 40]\n",
    "print(\"Every 2nd element:\", arr1d[::2])  # Step of 2: [10, 30, 50]"
   ]
  },
  {
   "cell_type": "markdown",
   "id": "173fad8e",
   "metadata": {},
   "source": [
    "Negative indices count from the end (-1 is last element). Slicing uses [start:stop:step] where stop is exclusive."
   ]
  },
  {
   "cell_type": "code",
   "execution_count": null,
   "id": "0a00f5fd",
   "metadata": {},
   "outputs": [],
   "source": [
    "# 2D array indexing - row and column access\n",
    "arr2d = np.array([[1, 2, 3, 4],\n",
    "                  [5, 6, 7, 8],\n",
    "                  [9, 10, 11, 12]])\n",
    "\n",
    "# Access specific element: [row, column]\n",
    "print(\"Element at row 1, column 2:\", arr2d[1, 2])        # 7\n",
    "\n",
    "# Access entire rows or columns\n",
    "print(\"First row:\", arr2d[0, :])               # All columns of row 0\n",
    "print(\"Second column:\", arr2d[:, 1])           # All rows of column 1\n",
    "\n",
    "# Subarray slicing: [row_start:row_end, col_start:col_end]\n",
    "print(\"Subarray (rows 1-2, cols 1-2):\\n\", arr2d[1:3, 1:3])"
   ]
  }
 ],
 "metadata": {
  "kernelspec": {
   "display_name": "numpy_prac",
   "language": "python",
   "name": "python3"
  },
  "language_info": {
   "codemirror_mode": {
    "name": "ipython",
    "version": 3
   },
   "file_extension": ".py",
   "mimetype": "text/x-python",
   "name": "python",
   "nbconvert_exporter": "python",
   "pygments_lexer": "ipython3",
   "version": "3.13.7"
  }
 },
 "nbformat": 4,
 "nbformat_minor": 5
}
