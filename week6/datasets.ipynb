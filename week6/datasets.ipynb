{
 "cells": [
  {
   "cell_type": "markdown",
   "id": "a59ebe86",
   "metadata": {},
   "source": [
    "### Data Set Links\n",
    "https://github.com/ek-chris/Practice_datasets\n",
    "https://drive.google.com/drive/folders/142VU2g4zKHY9LmAguDHYCXVqL3BSZkhK?usp=sharing\n",
    "\n",
    "\n"
   ]
  }
 ],
 "metadata": {
  "language_info": {
   "name": "python"
  }
 },
 "nbformat": 4,
 "nbformat_minor": 5
}
