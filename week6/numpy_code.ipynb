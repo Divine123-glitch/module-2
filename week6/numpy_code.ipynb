{
 "cells": [
  {
   "cell_type": "code",
   "execution_count": 11,
   "id": "413a3c4e",
   "metadata": {},
   "outputs": [
    {
     "name": "stderr",
     "output_type": "stream",
     "text": [
      "Matplotlib is building the font cache; this may take a moment.\n"
     ]
    }
   ],
   "source": [
    "import numpy as np\n",
    "import matplotlib.pyplot as plt"
   ]
  },
  {
   "cell_type": "code",
   "execution_count": 1,
   "id": "2fd59c61",
   "metadata": {},
   "outputs": [],
   "source": [
    "import numpy as np"
   ]
  },
  {
   "cell_type": "code",
   "execution_count": 5,
   "id": "d93c3fd7",
   "metadata": {},
   "outputs": [
    {
     "name": "stdout",
     "output_type": "stream",
     "text": [
      "Row Vector: [10 20 30]\n",
      "Column Vector:\n",
      " [[10]\n",
      " [20]\n",
      " [30]]\n"
     ]
    }
   ],
   "source": [
    "# A row vector (1D)\n",
    "v1 = np.array([10,20,30])\n",
    "print(\"Row Vector:\", v1)\n",
    "\n",
    "# A column vector (2D with shape 3x1)\n",
    "v2 = np.array([[10], [20], [30]])\n",
    "print(\"Column Vector:\\n\", v2)"
   ]
  },
  {
   "cell_type": "markdown",
   "id": "d463b918",
   "metadata": {},
   "source": [
    "# Vector Addition"
   ]
  },
  {
   "cell_type": "markdown",
   "id": "040eabc7",
   "metadata": {},
   "source": [
    "- When you add vectors, you add each pair of elements.\n",
    "- Bag A = [2, 3]\n",
    "- Bag B = [1, 5]\n",
    "- Total Items = [2+1, 3+5] = [3, 8]"
   ]
  },
  {
   "cell_type": "code",
   "execution_count": 6,
   "id": "93d7f5e4",
   "metadata": {},
   "outputs": [
    {
     "name": "stdout",
     "output_type": "stream",
     "text": [
      "a + b = [3 8]\n"
     ]
    }
   ],
   "source": [
    "a = np.array([2, 3])\n",
    "b = np.array([1, 5])\n",
    "print(\"a + b =\", a + b)"
   ]
  },
  {
   "cell_type": "code",
   "execution_count": 19,
   "id": "e33ef549",
   "metadata": {},
   "outputs": [
    {
     "name": "stdout",
     "output_type": "stream",
     "text": [
      "Vector a: [1 2 3]\n",
      "Vector b: [4 5 6]\n",
      "a + b: [5 7 9]\n"
     ]
    },
    {
     "data": {
      "image/png": "[encoded data removed]",
      "text/plain": [
       "<Figure size 800x600 with 1 Axes>"
      ]
     },
     "metadata": {},
     "output_type": "display_data"
    }
   ],
   "source": [
    "# Vector addition\n",
    "a = np.array([1, 2, 3])\n",
    "b = np.array([4, 5, 6])\n",
    "\n",
    "vector_sum = a + b\n",
    "print(f\"Vector a: {a}\")\n",
    "print(f\"Vector b: {b}\")\n",
    "print(f\"a + b: {vector_sum}\")\n",
    "\n",
    "# Geometric interpretation in 2D\n",
    "a_2d = np.array([2, 3])\n",
    "b_2d = np.array([1, 2])\n",
    "sum_2d = a_2d + b_2d\n",
    "\n",
    "plt.figure(figsize=(8, 6))\n",
    "plt.quiver(0, 0, a_2d[0], a_2d[1], angles='xy', scale_units='xy', scale=1, color='red', width=0.001)\n",
    "plt.quiver(0, 0, b_2d[0], b_2d[1], angles='xy', scale_units='xy', scale=1, color='blue', width=0.001)\n",
    "plt.quiver(0, 0, sum_2d[0], sum_2d[1], angles='xy', scale_units='xy', scale=1, color='green', width=0.001)\n",
    "plt.quiver(a_2d[0], a_2d[1], b_2d[0], b_2d[1], angles='xy', scale_units='xy', scale=1, color='blue', width=0.003, alpha=0.5)\n",
    "plt.xlim(-1, 4)\n",
    "plt.ylim(-1, 6)\n",
    "plt.grid(True)\n",
    "plt.title(\"Vector Addition: Parallelogram Rule\")\n",
    "plt.legend(['Vector a', 'Vector b', 'a + b'])\n",
    "plt.show()"
   ]
  },
  {
   "cell_type": "code",
   "execution_count": null,
   "id": "0648cc12",
   "metadata": {},
   "outputs": [
    {
     "name": "stdout",
     "output_type": "stream",
     "text": [
      "a + b = [5 7 9]\n",
      "b + a = [5 7 9]\n",
      "Commutative: True\n",
      "(a + b) + c = [ 6 -1 11]\n",
      "a + (b + c) = [ 6 -1 11]\n",
      "Associative: True\n"
     ]
    }
   ],
   "source": [
    "# Properties of vector addition\n",
    "c = np.array([1, -8, 2])\n",
    "\n",
    "# Commutative property: a + b = b + a\n",
    "print(f\"a + b = {a + b}\")\n",
    "print(f\"b + a = {b + a}\")\n",
    "print(f\"Commutative: {np.array_equal(a + b, b + a)}\")\n",
    "\n",
    "# Associative property: (a + b) + c = a + (b + c)\n",
    "left = (a + b) + c\n",
    "right = a + (b + c)\n",
    "print(f\"(a + b) + c = {left}\")\n",
    "print(f\"a + (b + c) = {right}\")\n",
    "print(f\"Associative: {np.array_equiv(left, right)}\")"
   ]
  },
  {
   "cell_type": "markdown",
   "id": "c7eea79b",
   "metadata": {},
   "source": [
    "**Scalar Multiplication**\n",
    " - Multiply every value in a vector by the same number.\n",
    " - Think of multiplying prices by quantity "
   ]
  },
  {
   "cell_type": "code",
   "execution_count": null,
   "id": "ea182519",
   "metadata": {},
   "outputs": [],
   "source": [
    "prices = np.array([100, 200])\n"
   ]
  }
 ],
 "metadata": {
  "kernelspec": {
   "display_name": "numpy_prac",
   "language": "python",
   "name": "python3"
  },
  "language_info": {
   "codemirror_mode": {
    "name": "ipython",
    "version": 3
   },
   "file_extension": ".py",
   "mimetype": "text/x-python",
   "name": "python",
   "nbconvert_exporter": "python",
   "pygments_lexer": "ipython3",
   "version": "3.13.7"
  }
 },
 "nbformat": 4,
 "nbformat_minor": 5
}
