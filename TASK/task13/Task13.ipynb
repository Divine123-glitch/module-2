{
 "cells": [
  {
   "cell_type": "markdown",
   "id": "4c789371",
   "metadata": {},
   "source": [
    "##  Question 1"
   ]
  },
  {
   "cell_type": "code",
   "execution_count": 3,
   "id": "72dfe9e1",
   "metadata": {},
   "outputs": [
    {
     "name": "stdout",
     "output_type": "stream",
     "text": [
      "Array (6 x 6):  [[10  9  6 18  8  2]\n",
      " [26  2 26  4 11 23]\n",
      " [25 49  5 36  2 33]\n",
      " [ 2 26 44 49  2 31]\n",
      " [28 48 19 13 25  7]\n",
      " [36 35 24 34 21  7]]\n"
     ]
    }
   ],
   "source": [
    "import numpy as np\n",
    "matrix = np.random.randint(1, 50, size=(6,6))\n",
    "print('Array (6 x 6):\\n',  matrix)"
   ]
  },
  {
   "cell_type": "markdown",
   "id": "ca00eb2c",
   "metadata": {},
   "source": [
    "## Question 2"
   ]
  },
  {
   "cell_type": "code",
   "execution_count": 6,
   "id": "25e7adff",
   "metadata": {},
   "outputs": [
    {
     "name": "stdout",
     "output_type": "stream",
     "text": [
      "First 2 rows:\n",
      "[[10  9  6 18  8  2]\n",
      " [26  2 26  4 11 23]]\n",
      "\n",
      "Last 3 columns:\n",
      "[[18  8  2]\n",
      " [ 4 11 23]\n",
      " [36  2 33]\n",
      " [49  2 31]\n",
      " [13 25  7]\n",
      " [34 21  7]]\n",
      "\n",
      "Even numbers in the array:\n",
      "[10  6 18  8  2 26  2 26  4 36  2  2 26 44  2 28 48 36 24 34]\n"
     ]
    }
   ],
   "source": [
    "print(\"First 2 rows:\")\n",
    "print (matrix[:2])\n",
    "print(\"\\nLast 3 columns:\")\n",
    "print(matrix[0:, -3:])\n",
    "print(\"\\nEven numbers in the array:\")\n",
    "print(matrix[matrix % 2 == 0])"
   ]
  },
  {
   "cell_type": "markdown",
   "id": "593f2181",
   "metadata": {},
   "source": [
    "## Question 3"
   ]
  },
  {
   "cell_type": "code",
   "execution_count": 8,
   "id": "5deeaa43",
   "metadata": {},
   "outputs": [
    {
     "name": "stdout",
     "output_type": "stream",
     "text": [
      "Reshaped 3D array:\n",
      "[[[10  9  6 18  8  2]\n",
      "  [26  2 26  4 11 23]]\n",
      "\n",
      " [[25 49  5 36  2 33]\n",
      "  [ 2 26 44 49  2 31]]\n",
      "\n",
      " [[28 48 19 13 25  7]\n",
      "  [36 35 24 34 21  7]]]\n",
      "\n",
      "Flattened 1D array:\n",
      "[10  9  6 18  8  2 26  2 26  4 11 23 25 49  5 36  2 33  2 26 44 49  2 31\n",
      " 28 48 19 13 25  7 36 35 24 34 21  7]\n"
     ]
    }
   ],
   "source": [
    "print(\"Reshaped 3D array:\")\n",
    "reshaped_matrix = matrix.reshape(3, 2, 6)\n",
    "print(reshaped_matrix)\n",
    "\n",
    "\n",
    "print(\"\\nFlattened 1D array:\")\n",
    "print(reshaped_matrix.flatten())"
   ]
  },
  {
   "cell_type": "markdown",
   "id": "e1f0a4a9",
   "metadata": {},
   "source": [
    "## Question 4"
   ]
  },
  {
   "cell_type": "code",
   "execution_count": 24,
   "id": "38e3b76c",
   "metadata": {},
   "outputs": [
    {
     "name": "stdout",
     "output_type": "stream",
     "text": [
      "4x4 Identity Matrix:\n",
      "[[1. 0. 0. 0.]\n",
      " [0. 1. 0. 0.]\n",
      " [0. 0. 1. 0.]\n",
      " [0. 0. 0. 1.]]\n",
      "\n",
      "\n",
      "[[10  0  0  0]\n",
      " [ 0 20  0  0]\n",
      " [ 0  0 30  0]\n",
      " [ 0  0  0 40]]\n"
     ]
    }
   ],
   "source": [
    "print(\"4x4 Identity Matrix:\")\n",
    "identity_matrix = np.eye(4)\n",
    "print(identity_matrix)\n",
    "\n",
    "print(\"\\n\")\n",
    "diagonal_matrix = np.diag(np.arange(10, 50, 10))\n",
    "print(diagonal_matrix)"
   ]
  },
  {
   "cell_type": "markdown",
   "id": "ea540fda",
   "metadata": {},
   "source": [
    "## Question 5"
   ]
  },
  {
   "cell_type": "code",
   "execution_count": 17,
   "id": "36c8b949",
   "metadata": {},
   "outputs": [
    {
     "name": "stdout",
     "output_type": "stream",
     "text": [
      "3x4 matrix:\n",
      "[[5 4 9 8]\n",
      " [1 6 1 7]\n",
      " [2 3 4 2]]\n",
      "\n",
      "4x3 matrix:\n",
      "[[8 4 4]\n",
      " [6 4 3]\n",
      " [4 5 9]\n",
      " [3 2 4]]\n",
      "\n",
      "\n",
      "Matrix Multiplication Result:\n",
      "[[124  97 145]\n",
      " [ 69  47  59]\n",
      " [ 56  44  61]]\n",
      "[[124  97 145]\n",
      " [ 69  47  59]\n",
      " [ 56  44  61]]\n"
     ]
    }
   ],
   "source": [
    "print(\"3x4 matrix:\")\n",
    "array1 = np.random.randint(1, 10, size=(3,4))\n",
    "print(array1)\n",
    "print(\"\\n4x3 matrix:\")\n",
    "array2 = np.random.randint(1, 10, size=(4,3))\n",
    "print(array2)\n",
    "\n",
    "print(\"\\n\")\n",
    "print(\"Matrix Multiplication Result:\")\n",
    "result = np.matmul(array1, array2)\n",
    "print(result)\n",
    "res = np.dot(array1, array2)\n",
    "print(res)"
   ]
  },
  {
   "cell_type": "markdown",
   "id": "aebe86a9",
   "metadata": {},
   "source": [
    "## Question 6\n"
   ]
  },
  {
   "cell_type": "code",
   "execution_count": 27,
   "id": "31d0c824",
   "metadata": {},
   "outputs": [],
   "source": [
    "def arr_ops():\n",
    "   rows = int(input('Enter number of rows: '))\n",
    "   cols = int(input('Enter number of columns: '))\n",
    "   arr = []\n",
    "   for i in range(rows):\n",
    "      for j in range (cols):\n",
    "          arr.append(int(input(f\"Value at row {rows} and columns {cols}\")))\n",
    "   array = np.array(arr).reshape(rows, cols)\n",
    "   print(\"Array:\")\n",
    "   print(array)\n",
    " "
   ]
  }
 ],
 "metadata": {
  "kernelspec": {
   "display_name": "numpy_prac",
   "language": "python",
   "name": "python3"
  },
  "language_info": {
   "codemirror_mode": {
    "name": "ipython",
    "version": 3
   },
   "file_extension": ".py",
   "mimetype": "text/x-python",
   "name": "python",
   "nbconvert_exporter": "python",
   "pygments_lexer": "ipython3",
   "version": "3.13.7"
  }
 },
 "nbformat": 4,
 "nbformat_minor": 5
}
