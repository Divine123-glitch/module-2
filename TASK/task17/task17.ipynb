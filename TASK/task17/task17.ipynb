{
 "cells": [
  {
   "cell_type": "markdown",
   "id": "4ea6b490",
   "metadata": {},
   "source": [
    "# Question 1"
   ]
  },
  {
   "cell_type": "markdown",
   "id": "a033499b",
   "metadata": {},
   "source": [
    "### Total Scores for Students"
   ]
  },
  {
   "cell_type": "markdown",
   "id": "6ac94209",
   "metadata": {},
   "source": [
    "Dataset is represented as matrix A\n",
    "\n",
    "$ A = \\begin{bmatrix}80&70&90\\cr60 & 85 & 75\\cr95 & 88 & 92\\cr70 & 60 & 65\\end{bmatrix}$\n",
    "\n",
    "In the matrix A, the rows represent the student and the columns represent the subject.\n",
    "\n",
    "- Student 1: \\( 80 + 70 + 90 = 240 \\)\n",
    "- Student 2: \\( 60 + 85 + 75 = 220 \\)\n",
    "- Student 3: \\( 95 + 88 + 92 = 275 \\)\n",
    "- Student 4: \\( 70 + 60 + 65 = 195 \\)\n"
   ]
  },
  {
   "cell_type": "code",
   "execution_count": null,
   "id": "3300491c",
   "metadata": {},
   "outputs": [],
   "source": [
    "import numpy as np\n",
    "\n",
    "A = np.array([[80, 70, 90], [60, 85, 75], [95, 88, 92], [70, 60, 65]])\n",
    "\n",
    "print(\"Original Scores Matrix:\\n \")\n",
    "print(A)\n",
    "\n",
    "total_scores = np.sum(A, axis=1)\n",
    "print(\"\\nTotal Scores per Student: \")\n",
    "for i, total in enumerate(total_scores, 1):\n",
    "    print(f\"Student {i}: {total}\")\n",
    "\n"
   ]
  },
  {
   "cell_type": "markdown",
   "id": "d373a68d",
   "metadata": {},
   "source": [
    "# Question 2"
   ]
  },
  {
   "cell_type": "markdown",
   "id": "bc42dfe8",
   "metadata": {},
   "source": [
    "## Scalar Multiplication for Math"
   ]
  },
  {
   "cell_type": "markdown",
   "id": "4fb2f635",
   "metadata": {},
   "source": [
    "Weights: Math = 2, English = 1, Science = 1.\n",
    "\n",
    "Weighted matrix As: \n",
    "\n",
    "$  As = \\begin{bmatrix}80 * 2 & 70 * 1 & 90 * 1 \\\\60 * 2 & 85 * 1 & 75 * 1 \\\\95 * 2 & 88 * 1 & 92 * 1 \\\\70 * 2 & 60 * 1 & 65 * 1\\end{bmatrix}$\n",
    "\n",
    "$ As = \\begin{bmatrix}160 & 70 & 90 \\\\120 & 85 & 75 \\\\190 & 88 & 92 \\\\140 & 60 & 65\\end{bmatrix}$\n",
    "\n",
    "- Weighted total scores:\n",
    "  - Student 1: \\( 160 + 70 + 90 = 320 \\)\n",
    "  - Student 2: \\( 120 + 85 + 75 = 280 \\)\n",
    "  - Student 3: \\( 190 + 88 + 92 = 370 \\)\n",
    "  - Student 4: \\( 140 + 60 + 65 = 265 \\)"
   ]
  },
  {
   "cell_type": "code",
   "execution_count": 6,
   "id": "7b2cfd6b",
   "metadata": {},
   "outputs": [
    {
     "name": "stdout",
     "output_type": "stream",
     "text": [
      "Weighted Scores Matrix (Maths twice important):\n",
      "[[160  70  90]\n",
      " [120  85  75]\n",
      " [190  88  92]\n",
      " [140  60  65]]\n",
      "\n",
      "Weighted Total Scores:\n",
      "Student 1: 320\n",
      "Student 2: 280\n",
      "Student 3: 370\n",
      "Student 4: 265\n"
     ]
    }
   ],
   "source": [
    "scaled_math = np.array([2, 1, 1])  \n",
    "weighted_math = A * scaled_math\n",
    "weighted_totals_math = np.sum(weighted_math, axis=1)\n",
    "print(\"Weighted Scores Matrix (Maths twice important):\")\n",
    "print(weighted_math)\n",
    "print(\"\\nWeighted Total Scores:\")\n",
    "for i, total in enumerate(weighted_totals_math, 1):\n",
    "    print(f\"Student {i}: {total}\")"
   ]
  },
  {
   "cell_type": "markdown",
   "id": "e61056c2",
   "metadata": {},
   "source": [
    "# Question 3"
   ]
  },
  {
   "cell_type": "markdown",
   "id": "7c8805d9",
   "metadata": {},
   "source": [
    "## Subject Average"
   ]
  },
  {
   "cell_type": "markdown",
   "id": "230273ff",
   "metadata": {},
   "source": [
    "Subject Average = Total of Subject / No of Student\n",
    "\n",
    "- Math: \\( (80 + 60 + 95 + 70) / 4 = 305 / 4 = 76.25 \\)\n",
    "- English: \\( (70 + 85 + 88 + 60) / 4 = 303 / 4 = 75.75 \\)\n",
    "- Science: \\( (90 + 75 + 92 + 65) / 4 = 322 / 4 = 80.50 \\)"
   ]
  },
  {
   "cell_type": "code",
   "execution_count": 12,
   "id": "b927238e",
   "metadata": {},
   "outputs": [
    {
     "name": "stdout",
     "output_type": "stream",
     "text": [
      "Average Score per Subject:\n",
      "Math: 76.25\n",
      "English: 75.75\n",
      "Science: 80.50\n"
     ]
    }
   ],
   "source": [
    "subjects = ['Math', 'English', 'Science']\n",
    "subject_avg = np.mean(A, axis=0)\n",
    "print(\"Average Score per Subject:\")\n",
    "for subject, avg in zip(subjects, subject_avg):\n",
    "    print(f\"{subject}: {avg:.2f}\")\n"
   ]
  },
  {
   "cell_type": "markdown",
   "id": "0cacb14d",
   "metadata": {},
   "source": [
    "# Question 4"
   ]
  },
  {
   "cell_type": "markdown",
   "id": "c75a0dda",
   "metadata": {},
   "source": [
    "## Final Grades"
   ]
  },
  {
   "cell_type": "markdown",
   "id": "7927aaf0",
   "metadata": {},
   "source": [
    "Final Grades: multiply through with weight vector [0.5, 0.3, 0.2]\n",
    "\n",
    "- Student 1: \\( 80 x 0.5 + 70 x 0.3 + 90 x 0.2 = 40 + 21 + 18 = 79 \\)\n",
    "- Student 2: \\( 60 x 0.5 + 85 x 0.3 + 75 x 0.2 = 30 + 25.5 + 15 = 70.5 \\)\n",
    "- Student 3: \\( 95 x 0.5 + 88 x 0.3 + 92 x 0.2 = 47.5 + 26.4 + 18.4 = 92.3 \\)\n",
    "- Student 4: \\( 70 x 0.5 + 60 x 0.3 + 65 x 0.2 = 35 + 18 + 13 = 66 \\)"
   ]
  },
  {
   "cell_type": "code",
   "execution_count": 16,
   "id": "4c78163f",
   "metadata": {},
   "outputs": [
    {
     "name": "stdout",
     "output_type": "stream",
     "text": [
      "Final Grades (weights: Math=0.5, English=0.3, Science=0.2):\n",
      "Student 1: 79.00\n",
      "Student 2: 70.50\n",
      "Student 3: 92.30\n",
      "Student 4: 66.00\n"
     ]
    }
   ],
   "source": [
    "weights = np.array([0.5, 0.3, 0.2])\n",
    "final_grades = np.matmul(A, weights)\n",
    "print(\"Final Grades (weights: Math=0.5, English=0.3, Science=0.2):\")\n",
    "for i, grade in enumerate(final_grades, 1):\n",
    "    print(f\"Student {i}: {grade:.2f}\")\n"
   ]
  },
  {
   "cell_type": "markdown",
   "id": "83da52d2",
   "metadata": {},
   "source": [
    "# Question 5"
   ]
  },
  {
   "cell_type": "markdown",
   "id": "27dbd25f",
   "metadata": {},
   "source": [
    "## Comparing Students"
   ]
  },
  {
   "cell_type": "markdown",
   "id": "6c1aeaaf",
   "metadata": {},
   "source": [
    "Compare Student 1 and Student 2\n",
    "\n",
    "- Student 1 vector: \\( [80, 70, 90] \\)\n",
    "- Student 2 vector: \\( [60, 85, 75] \\)\n",
    "- Overall Comparison = \\([ 80+70+90 = 240 ] - [ 60+85+75 = 220] = 20 ) - Student 1 performed better\n",
    "\n",
    "Subject Comparison\n",
    "  - Math: \\( 80-60 = 20 \\) - Student 1 performed better\n",
    "  - English: \\( 70-85 = -15 \\) - Student 2 performed better\n",
    "  - Science: \\( 90-75 = 15 \\) - Student 1 performed better"
   ]
  },
  {
   "cell_type": "code",
   "execution_count": 20,
   "id": "01f2f8cd",
   "metadata": {},
   "outputs": [
    {
     "name": "stdout",
     "output_type": "stream",
     "text": [
      "Overall Comparison: \n",
      "     Student 1 is better\n",
      "\n",
      "Subject Comparison:\n",
      "Math: 20\n",
      "  Student 1 better\n",
      "English: -15\n",
      "   Student 2 better\n",
      "Science: 15\n",
      "  Student 1 better\n",
      "\n"
     ]
    }
   ],
   "source": [
    "student1 = A[0]\n",
    "student2 = A[1]\n",
    "stu1 = np.sum(A[0])\n",
    "stu2 = np.sum(A[1])\n",
    "comp = stu1 - stu2\n",
    "difference = student1 - student2\n",
    "\n",
    "print(\"Overall Comparison: \")\n",
    "if comp > 0:\n",
    "    print(\"     Student 1 is better\")\n",
    "elif comp < 0:\n",
    "    print(\"     Student 2 is better\")\n",
    "else:\n",
    "    print(\"     Tie\")\n",
    "\n",
    "print(\"\\nSubject Comparison:\")\n",
    "for subject, diff in zip(subjects, difference):\n",
    "    print(f\"{subject}: {diff}\")\n",
    "    if diff > 0:\n",
    "        print(\"  Student 1 better\")\n",
    "    elif diff < 0:\n",
    "        print(\"   Student 2 better\")\n",
    "    else:\n",
    "        print(\"  Tie\")\n",
    "print()\n"
   ]
  }
 ],
 "metadata": {
  "kernelspec": {
   "display_name": "numpy",
   "language": "python",
   "name": "python3"
  },
  "language_info": {
   "codemirror_mode": {
    "name": "ipython",
    "version": 3
   },
   "file_extension": ".py",
   "mimetype": "text/x-python",
   "name": "python",
   "nbconvert_exporter": "python",
   "pygments_lexer": "ipython3",
   "version": "3.13.7"
  }
 },
 "nbformat": 4,
 "nbformat_minor": 5
}
