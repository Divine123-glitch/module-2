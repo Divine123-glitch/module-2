{
 "cells": [
  {
   "cell_type": "markdown",
   "id": "d21fcc50",
   "metadata": {},
   "source": [
    "\n",
    "# CLASS TASK 3\n"
   ]
  },
  {
   "cell_type": "markdown",
   "id": "b5ab7dc9",
   "metadata": {},
   "source": [
    "#"
   ]
  },
  {
   "cell_type": "markdown",
   "id": "0bb2d877",
   "metadata": {},
   "source": [
    "#"
   ]
  },
  {
   "cell_type": "markdown",
   "id": "77f558ce",
   "metadata": {},
   "source": [
    "## 1. Compute the following: (cA), (dB), and (c+d)A"
   ]
  },
  {
   "cell_type": "markdown",
   "id": "78b130ad",
   "metadata": {},
   "source": [
    "$Let  A=\\begin{bmatrix}2&-1\\cr0&3\\end{bmatrix}$ ,    $B=\\begin{bmatrix}1&4\\cr-2&5\\end{bmatrix}$\n",
    "and let the scalars  (c = 2), (d = 3). \n",
    "\n",
    "       Solution\n",
    "\n",
    "(cA) = 2 x $\\begin{bmatrix}2&-1\\cr0&3\\end{bmatrix}$ = $\\begin{bmatrix}2 * 2&2 * -1\\cr2 * 0&2 * 3\\end{bmatrix}$\n",
    "= $\\begin{bmatrix}4&-2\\cr0&6\\end{bmatrix}$\n",
    "\n",
    "dB = 3 x $\\begin{bmatrix}1&4\\cr-2&5\\end{bmatrix}$ = $\\begin{bmatrix}3 * 1&3 * 4\\cr3 * -2&3 * 5\\end{bmatrix}$\n",
    " = $\\begin{bmatrix}3&12\\cr-6&15\\end{bmatrix}$\n",
    "\n",
    "(c+d)A = (2+3) x $\\begin{bmatrix}2&-1\\cr0&3\\end{bmatrix}$ =  (5) x $\\begin{bmatrix}2&-1\\cr0&3\\end{bmatrix}$ = $\\begin{bmatrix}5 * 2&5 * -1\\cr5 * 0&5 * 3\\end{bmatrix}$\n",
    "= $\\begin{bmatrix}10&-5\\cr0&15\\end{bmatrix}$"
   ]
  },
  {
   "cell_type": "markdown",
   "id": "4f2adbc6",
   "metadata": {},
   "source": [
    "##"
   ]
  },
  {
   "cell_type": "markdown",
   "id": "e78a9a4e",
   "metadata": {},
   "source": [
    "#"
   ]
  },
  {
   "cell_type": "markdown",
   "id": "a0d2db65",
   "metadata": {},
   "source": [
    "## 2. Using the results gotten , Verify the scalar Multiplication Properties\n",
    "\n"
   ]
  },
  {
   "cell_type": "markdown",
   "id": "805102a1",
   "metadata": {},
   "source": [
    "### Solution\n",
    "\n",
    "#### i. Associativity of scalar multiplication\n",
    "(c.d)A = c.(dA)\n",
    "\n",
    "(c.d)A = (2 . 3)*$\\begin{bmatrix}2&-1\\cr0&3\\end{bmatrix}$  = 6 * $\\begin{bmatrix}2&-1\\cr0&3\\end{bmatrix}$ = $\\begin{bmatrix}12&-6\\cr0&18\\end{bmatrix}$\n",
    "c.(dA) = 2. (3 * $\\begin{bmatrix}2&-1\\cr0&3\\end{bmatrix}$) = 2. ($\\begin{bmatrix}6&-3\\cr0&9\\end{bmatrix}$) = $\\begin{bmatrix}12&-6\\cr0&18\\end{bmatrix}$\n",
    "\n",
    "Since (c.d)A = c.(dA) =  $\\begin{bmatrix}12&-6\\cr0&18\\end{bmatrix}$,  then they satisfy associativity of scalar multiplication\n",
    "\n",
    "\n",
    "#### ii. Distributivity over Matrix Addition\n",
    "\n",
    "c(A + B) =cA + cB\n",
    "c(A + B) =  2($\\begin{bmatrix}2&-1\\cr0&3\\end{bmatrix}$  + $\\begin{bmatrix}1&4\\cr-2&5\\end{bmatrix}$) = \n",
    "2($\\begin{bmatrix}3&3\\cr-2&8\\end{bmatrix}$)  = $\\begin{bmatrix}6&6\\cr-4&16\\end{bmatrix}$\n",
    "\n",
    "cA + cB = 2 * $\\begin{bmatrix}2&-1\\cr0&3\\end{bmatrix}$ + 2 * $\\begin{bmatrix}1&4\\cr-2&5\\end{bmatrix}$ =\n",
    "$\\begin{bmatrix}4&-2\\cr0&6\\end{bmatrix}$ + $\\begin{bmatrix}2&8\\cr-4&10\\end{bmatrix}$ = $\\begin{bmatrix}6&6\\cr-4&16\\end{bmatrix}$\n",
    "\n",
    "Since c(A + B) =cA + cB = $\\begin{bmatrix}6&6\\cr-4&16\\end{bmatrix}$,  then they satisfy Distributivity over Matrix Addition\n",
    "\n",
    "\n",
    "#### iii. Distributivity over Scalar Addition\n",
    "(c + d)A = cA + dA\n",
    "\n",
    "(c + d)A = (2 + 3)$\\begin{bmatrix}2&-1\\cr0&3\\end{bmatrix}$ = 5 * $\\begin{bmatrix}2&-1\\cr0&3\\end{bmatrix}$ =\n",
    "$\\begin{bmatrix}10&-5\\cr0&15\\end{bmatrix}$\n",
    "\n",
    "cA + dA = 2 * $\\begin{bmatrix}2&-1\\cr0&3\\end{bmatrix}$ + 3 * $\\begin{bmatrix}2&-1\\cr0&3\\end{bmatrix}$  =\n",
    "$\\begin{bmatrix}4&-2\\cr0&6\\end{bmatrix}$ + $\\begin{bmatrix}6&-3\\cr0&9\\end{bmatrix}$ = $\\begin{bmatrix}10&-5\\cr0&15\\end{bmatrix}$\n",
    "\n",
    "Since (c + d)A = cA + dA = $\\begin{bmatrix}10&-5\\cr0&15\\end{bmatrix}$,  then they satisfy Distributivity over Scalar Addition\n"
   ]
  },
  {
   "cell_type": "markdown",
   "id": "64fe6ee1",
   "metadata": {},
   "source": [
    "#"
   ]
  },
  {
   "cell_type": "markdown",
   "id": "c973bf52",
   "metadata": {},
   "source": [
    "#"
   ]
  },
  {
   "cell_type": "markdown",
   "id": "88b44455",
   "metadata": {},
   "source": [
    "## 3. Find the transpose of both matrices\n",
    "\n",
    "###                         Solution\n",
    "\n",
    "The rows becomes the columns and columns become the rows\n",
    "\n",
    "Transpose of A=\n",
    "                 $A^T=\\begin{bmatrix}2&0\\cr-1&3\\end{bmatrix}$ \n",
    "\n",
    "Transpose of B\n",
    "                $B^T=\\begin{bmatrix}1&-2\\cr4&5\\end{bmatrix}$\n"
   ]
  },
  {
   "cell_type": "markdown",
   "id": "2b0023ae",
   "metadata": {},
   "source": [
    "#\n"
   ]
  },
  {
   "cell_type": "markdown",
   "id": "db6d278a",
   "metadata": {},
   "source": [
    "#"
   ]
  },
  {
   "cell_type": "markdown",
   "id": "357eea46",
   "metadata": {},
   "source": [
    "## 4. Check if (A) and (B) are invertible by computing their determinants.\n",
    "\n",
    "\n",
    "###                             Solution\n",
    "\n",
    "#### Determinant of A\n",
    " $|A|$ = $|(ad) - (bc)|$ =  $|(2 * 3) - (-1 * 0)|$ =  $|6 - (0)|$ = $|6 - 0|$ = 6  \n",
    "\n",
    "#### Determinant of B\n",
    " $|B|$ = $|(ad) - (bc)|$ =  $|(1 * 5) - (4 * -2)|$ =  $|5 - (-8)|$ = $|5 + 8|$ = 13 \n",
    "\n",
    "\n",
    "Since the $|A|$  and $|B|$ !=0, then the two matrices are invertible.\n",
    "\n",
    "Then Inverse of A =\n",
    " $A^{-1}$ = [($\\frac{1}{|A|}$) * $\\begin{bmatrix}3&-(-1)\\cr-0&2\\end{bmatrix}$] = \n",
    "[($\\frac{1}{6}$) * $\\begin{bmatrix}3&1\\cr0&2\\end{bmatrix}$]  = $\\begin{bmatrix}3 \\div 6&1 \\div 6\\cr0 \\div 6&2 \\div 6\\end{bmatrix}$=\n",
    "$\\begin{bmatrix}1 \\div 2&1 \\div 6\\cr0 \\div 6&1 \\div 3\\end{bmatrix}$ = $\\begin{bmatrix}\\frac{1}{2}&\\frac{1}{6}\\cr0&\\frac{1}{3}\\end{bmatrix}$\n",
    "\n",
    "Then Inverse of B = \n",
    " $B^{-1}$ = [($\\frac{1}{|B|}$) * $\\begin{bmatrix}5&-(4)\\cr-(-2)&1\\end{bmatrix}$] = \n",
    "[($\\frac{1}{13}$) * $\\begin{bmatrix}5&-4\\cr2&1\\end{bmatrix}$]  = $\\begin{bmatrix}5 \\div 13&-4 \\div 13\\cr2 \\div 13&1 \\div 13\\end{bmatrix}$=\n",
    " $\\begin{bmatrix}\\frac{5}{13}&\\frac{-4}{13}\\cr\\frac{2}{13}&\\frac{1}{13}\\end{bmatrix}$\n",
    "\n",
    "\n",
    "\n",
    "\n"
   ]
  }
 ],
 "metadata": {
  "language_info": {
   "name": "python"
  }
 },
 "nbformat": 4,
 "nbformat_minor": 5
}
