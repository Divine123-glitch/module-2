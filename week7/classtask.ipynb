{
 "cells": [
  {
   "cell_type": "markdown",
   "id": "31d6dd5f",
   "metadata": {},
   "source": [
    "## Question A"
   ]
  },
  {
   "cell_type": "markdown",
   "id": "cde535f6",
   "metadata": {},
   "source": [
    "Matrix A has 2 rows and 3 columns. It is a 2 by 3 matrix\n",
    "Matrix B has 3 rows and 2 columns. It is a 3 by 2 matrix"
   ]
  },
  {
   "cell_type": "markdown",
   "id": "7095b2ab",
   "metadata": {},
   "source": [
    "## Question B "
   ]
  },
  {
   "cell_type": "markdown",
   "id": "886e4160",
   "metadata": {},
   "source": [
    "The mulptiplication is possible. It can be AB OR BA"
   ]
  },
  {
   "cell_type": "markdown",
   "id": "00b78c04",
   "metadata": {},
   "source": [
    "## Question C"
   ]
  },
  {
   "cell_type": "markdown",
   "id": "a439e57d",
   "metadata": {},
   "source": [
    "Explained multiplication\n",
    "AB11 = (2*1) + (-1*-2) + (3*5) = 2+2+15 = 19\n",
    "AB12 = (2*2) + (-1*0) + (3*-3) = 4+0+(-9) = -5\n",
    "AB21 = (0*1) + (4*-2) + (1*5) = 0+(-8)+5 = -3\n",
    "AB22 = (0*2) + (4*0) + (1*-3) = 0+0+(-3) = -3\n",
    "\n",
    "Result matrix AB=\n",
    "19 -5\n",
    "-3 -3"
   ]
  },
  {
   "cell_type": "markdown",
   "id": "7088f4ce",
   "metadata": {},
   "source": [
    "## Question D"
   ]
  },
  {
   "cell_type": "code",
   "execution_count": 2,
   "id": "91747c5b",
   "metadata": {},
   "outputs": [
    {
     "name": "stdout",
     "output_type": "stream",
     "text": [
      "Matrix AB:\n",
      "[[19 -5]\n",
      " [-3 -3]]\n",
      "\n",
      "Matrix BA:\n",
      "[[  2   7   5]\n",
      " [ -4   2  -6]\n",
      " [ 10 -17  12]]\n"
     ]
    }
   ],
   "source": [
    "import numpy as np\n",
    "\n",
    "A = np.array([[2, -1, 3], [0, 4, 1]])\n",
    "B = np.array([[1, 2], [-2, 0], [5, -3]])\n",
    "\n",
    "# Matrix multiplication AB\n",
    "AB = np.dot(A, B)\n",
    "print(\"Matrix AB:\")\n",
    "print(AB)\n",
    "\n",
    "# Matrix multiplication BA\n",
    "BA = np.dot(B, A)\n",
    "print(\"\\nMatrix BA:\")\n",
    "print(BA)"
   ]
  }
 ],
 "metadata": {
  "kernelspec": {
   "display_name": "numpy",
   "language": "python",
   "name": "python3"
  },
  "language_info": {
   "codemirror_mode": {
    "name": "ipython",
    "version": 3
   },
   "file_extension": ".py",
   "mimetype": "text/x-python",
   "name": "python",
   "nbconvert_exporter": "python",
   "pygments_lexer": "ipython3",
   "version": "3.13.7"
  }
 },
 "nbformat": 4,
 "nbformat_minor": 5
}
