{
 "cells": [
  {
   "cell_type": "markdown",
   "id": "1fe17a6a",
   "metadata": {},
   "source": [
    "# Question 1.\n",
    "\n",
    "Given (4, 8, 6, 5, 3):\n",
    "$$ \\text{Calculate the Variance. } $$"
   ]
  },
  {
   "cell_type": "markdown",
   "id": "cb854d8d",
   "metadata": {},
   "source": [
    "## Solution.\n",
    "\n",
    "The variance is given by:\n",
    "$$\n",
    "Variance(\\sigma^2) = \\frac{\\sum_{i = 1}^n(x_i - \\mu)^2}{n} -{1}, \\text{ where }x_i \\in numbers\n",
    "$$ \n",
    "\n",
    "To find the variance, we calculate the mean first:\n",
    "$$\n",
    "Mean = \\frac{4 + 8 + 6 + 5 + 3}{5} = \\frac{26}{5} = 5.2\n",
    "$$\n",
    "\n",
    "Now we substitute the mean and n into the variance equation. Hence we have:\n",
    "$$\n",
    "Variance(\\sigma^2) = \\frac{\\sum_{i = 1}^n(x_i - \\mu)^2}{n} -{1}, \\text{ where }x_i \\in numbers\n",
    "$$\n",
    "\n",
    "$$\n",
    "\\implies Variance(\\sigma^2) = \\frac{(4 -5.2)^2 + (8 -5.2)^2 + (6 -5.2)^2 + (5 -5.2)^2 + (3 -5.2)^2}{5}\n",
    "$$\n",
    "\n",
    "$$ = \\frac{14.8}{5} $$\n",
    "\n",
    "$$ \n",
    "\\therefore Variance(\\sigma^2) = 2.96\n",
    "$$"
   ]
  }
 ],
 "metadata": {
  "language_info": {
   "name": "python"
  }
 },
 "nbformat": 4,
 "nbformat_minor": 5
}
